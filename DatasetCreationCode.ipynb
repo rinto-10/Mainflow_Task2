import pandas as pd
import numpy as np

# Set random seed for reproducibility
np.random.seed(42)
n = 15  # Number of entries

# --- Global Superstore Dataset ---
global_superstore = pd.DataFrame({
    'Order ID': np.arange(1, n+1),
    'Sales': np.random.gamma(shape=2, scale=200, size=n).round(2),
    'Profit': np.random.normal(loc=50, scale=100, size=n).round(2),
    'Region': np.random.choice(['East', 'West', 'Central', 'South'], n),
    'Category': np.random.choice(['Furniture', 'Office Supplies', 'Technology'], n)
})

# Save to Excel
global_superstore.to_excel("Global_Superstore.xlsx", index=False)

# --- Sales Data Dataset ---
dates = pd.date_range(start='2023-01-01', periods=n, freq='D')
sales_data = pd.DataFrame({
    'Product': np.random.choice(['Laptop', 'Chair', 'Printer', 'Pen', 'Notebook'], n),
    'Region': np.random.choice(['East', 'West', 'North', 'South'], n),
    'Sales': np.random.gamma(shape=2, scale=150, size=n).round(2),
    'Profit': np.random.normal(loc=40, scale=80, size=n).round(2),
    'Discount': np.random.uniform(0, 0.3, n).round(2),
    'Category': np.random.choice(['Technology', 'Furniture', 'Stationery'], n),
    'Date': dates
})

# Save to Excel
sales_data.to_excel("Sales_Data.xlsx", index=False)

print("Files 'Global_Superstore.xlsx' and 'Sales_Data.xlsx' created successfully.")
