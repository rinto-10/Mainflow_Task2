# 📦 Import libraries
import pandas as pd
import numpy as np
import seaborn as sns
import matplotlib.pyplot as plt
from scipy import stats

# 📥 Load dataset
df = pd.read_excel('Global_Superstore.xlsx')

# 🔍 Initial Exploration
print("Shape:", df.shape)
print(df.info())
print(df.describe())

# 🧹 Data Cleaning
df.drop_duplicates(inplace=True)
df['Sales'].fillna(df['Sales'].median(), inplace=True)
df['Profit'].fillna(df['Profit'].median(), inplace=True)

# 🎯 Outlier Detection using IQR
Q1 = df[['Sales', 'Profit']].quantile(0.25)
Q3 = df[['Sales', 'Profit']].quantile(0.75)
IQR = Q3 - Q1
df = df[~((df[['Sales', 'Profit']] < (Q1 - 1.5 * IQR)) | (df[['Sales', 'Profit']] > (Q3 + 1.5 * IQR))).any(axis=1)]

# 📊 Statistical Summary
print("Mean:\n", df.mean(numeric_only=True))
print("Std Dev:\n", df.std(numeric_only=True))
print("Correlation:\n", df.corr(numeric_only=True))

# 📈 Visualizations
plt.figure(figsize=(14, 6))

plt.subplot(1, 2, 1)
sns.histplot(df['Sales'], kde=True, bins=10)
plt.title('Sales Distribution')

plt.subplot(1, 2, 2)
sns.histplot(df['Profit'], kde=True, bins=10)
plt.title('Profit Distribution')

plt.tight_layout()
plt.show()

# Boxplots
plt.figure(figsize=(10, 4))
sns.boxplot(data=df[['Sales', 'Profit']])
plt.title("Boxplots for Sales & Profit")
plt.show()

# Heatmap
plt.figure(figsize=(6, 4))
sns.heatmap(df.corr(numeric_only=True), annot=True, cmap='coolwarm')
plt.title("Feature Correlation Heatmap")
plt.show()
