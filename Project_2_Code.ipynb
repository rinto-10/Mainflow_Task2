# 📦 Import libraries
import pandas as pd
import numpy as np
import seaborn as sns
import matplotlib.pyplot as plt
from sklearn.linear_model import LinearRegression
from sklearn.metrics import mean_squared_error, r2_score

# 📥 Load dataset
df = pd.read_excel('Sales_Data.xlsx')

# 🧹 Data Cleaning
df.drop_duplicates(inplace=True)
df['Sales'].fillna(df['Sales'].median(), inplace=True)
df['Profit'].fillna(df['Profit'].median(), inplace=True)
df['Date'] = pd.to_datetime(df['Date'])

# 📊 Time Series Plot
df_time = df.groupby('Date')['Sales'].sum().reset_index()
plt.figure(figsize=(10, 4))
sns.lineplot(data=df_time, x='Date', y='Sales')
plt.title('Sales Trend Over Time')
plt.xlabel('Date')
plt.ylabel('Sales')
plt.xticks(rotation=45)
plt.tight_layout()
plt.show()

# 📈 Scatter Plot: Profit vs Discount
plt.figure(figsize=(6, 4))
sns.scatterplot(data=df, x='Discount', y='Profit')
plt.title('Profit vs Discount')
plt.show()

# 📊 Sales by Region and Category
plt.figure(figsize=(10, 4))

plt.subplot(1, 2, 1)
region_sales = df.groupby('Region')['Sales'].sum()
region_sales.plot(kind='bar', title='Sales by Region')
plt.ylabel('Sales')

plt.subplot(1, 2, 2)
category_sales = df.groupby('Category')['Sales'].sum()
category_sales.plot(kind='pie', autopct='%1.1f%%', title='Sales by Category')
plt.ylabel('')

plt.tight_layout()
plt.show()

# 🤖 Predictive Modeling: Linear Regression
X = df[['Profit', 'Discount']]
y = df['Sales']

model = LinearRegression()
model.fit(X, y)
y_pred = model.predict(X)

# 📏 Model Evaluation
print("R² Score:", r2_score(y, y_pred))
print("Mean Squared Error:", mean_squared_error(y, y_pred))

# 💡 Insights
print("\nModel Coefficients:")
print(f"Intercept: {model.intercept_:.2f}")
print(f"Profit Coef: {model.coef_[0]:.2f}, Discount Coef: {model.coef_[1]:.2f}")
